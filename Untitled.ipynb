{
 "cells": [
  {
   "cell_type": "code",
   "execution_count": 7,
   "metadata": {},
   "outputs": [],
   "source": [
    "import sys\n",
    "from PIL import Image\n",
    "\n"
   ]
  },
  {
   "cell_type": "code",
   "execution_count": 15,
   "metadata": {},
   "outputs": [],
   "source": [
    "images = [Image.open(x) for x in [\n",
    "    'D:\\\\Github\\\\Aktien\\\\Output\\\\Bitcoin-EUR.png', \n",
    "    'D:\\\\Github\\\\Aktien\\\\Output\\\\HSBC MSCI World ETF.png'\n",
    "    ]]\n",
    "image  = Image.open('D:\\\\Github\\\\Aktien\\\\Output\\\\Bitcoin-EUR.png') "
   ]
  },
  {
   "cell_type": "code",
   "execution_count": 17,
   "metadata": {},
   "outputs": [
    {
     "name": "stdout",
     "output_type": "stream",
     "text": [
      "3267\n"
     ]
    }
   ],
   "source": [
    "print(image.size[1])"
   ]
  },
  {
   "cell_type": "code",
   "execution_count": 9,
   "metadata": {},
   "outputs": [],
   "source": [
    "widths, heights = zip(*(i.size for i in images))\n",
    "\n",
    "max_width = max(widths)\n",
    "total_height = sum(heights)\n",
    "\n"
   ]
  },
  {
   "cell_type": "code",
   "execution_count": 11,
   "metadata": {},
   "outputs": [
    {
     "name": "stdout",
     "output_type": "stream",
     "text": [
      "6109  6534\n"
     ]
    }
   ],
   "source": [
    "print(f'{max_width}  {total_height}')"
   ]
  },
  {
   "cell_type": "code",
   "execution_count": 12,
   "metadata": {},
   "outputs": [],
   "source": [
    "new_im = Image.new('RGB', (max_width, total_height))"
   ]
  },
  {
   "cell_type": "code",
   "execution_count": 14,
   "metadata": {},
   "outputs": [
    {
     "name": "stdout",
     "output_type": "stream",
     "text": [
      "<PIL.Image.Image image mode=RGB size=6109x6534 at 0x2B2F4A7CB80>\n"
     ]
    }
   ],
   "source": [
    "print(f'{new_im}')"
   ]
  },
  {
   "cell_type": "code",
   "execution_count": null,
   "metadata": {},
   "outputs": [],
   "source": []
  },
  {
   "cell_type": "code",
   "execution_count": 19,
   "metadata": {},
   "outputs": [
    {
     "name": "stdout",
     "output_type": "stream",
     "text": [
      "fertig :)\n"
     ]
    }
   ],
   "source": [
    "y_offset = 0\n",
    "for im in images:\n",
    "  new_im.paste(im, (0, y_offset))\n",
    "  y_offset += im.size[1]\n",
    "\n",
    "new_im.save('D:\\\\Github\\\\Aktien\\\\Output\\\\test.png')\n",
    "print(\"fertig :)\")"
   ]
  },
  {
   "cell_type": "code",
   "execution_count": null,
   "metadata": {},
   "outputs": [],
   "source": []
  },
  {
   "cell_type": "code",
   "execution_count": null,
   "metadata": {},
   "outputs": [],
   "source": []
  },
  {
   "cell_type": "code",
   "execution_count": null,
   "metadata": {},
   "outputs": [],
   "source": []
  }
 ],
 "metadata": {
  "kernelspec": {
   "display_name": "Python 3",
   "language": "python",
   "name": "python3"
  },
  "language_info": {
   "codemirror_mode": {
    "name": "ipython",
    "version": 3
   },
   "file_extension": ".py",
   "mimetype": "text/x-python",
   "name": "python",
   "nbconvert_exporter": "python",
   "pygments_lexer": "ipython3",
   "version": "3.8.3"
  }
 },
 "nbformat": 4,
 "nbformat_minor": 4
}
