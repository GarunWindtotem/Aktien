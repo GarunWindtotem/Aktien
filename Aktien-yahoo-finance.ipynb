{
 "cells": [
  {
   "cell_type": "markdown",
   "metadata": {},
   "source": [
    "#### https://www.geeksforgeeks.org/how-to-download-historical-stock-prices-in-python/"
   ]
  },
  {
   "cell_type": "code",
   "execution_count": 10,
   "metadata": {},
   "outputs": [],
   "source": [
    "# import modules\n",
    "from datetime import datetime\n",
    "from datetime import date\n",
    "import yfinance as yf\n",
    "import matplotlib.pyplot as plt\n",
    "import pandas as pd\n",
    "import numpy as np\n",
    "import matplotlib.dates as mdates\n",
    "from matplotlib.ticker import FuncFormatter"
   ]
  },
  {
   "cell_type": "code",
   "execution_count": null,
   "metadata": {},
   "outputs": [],
   "source": []
  },
  {
   "cell_type": "code",
   "execution_count": 11,
   "metadata": {},
   "outputs": [],
   "source": [
    "today = date.today().strftime(\"%d.%m.%Y\")\n",
    "minticks = 5\n",
    "maxticks = None"
   ]
  },
  {
   "cell_type": "code",
   "execution_count": 12,
   "metadata": {},
   "outputs": [],
   "source": [
    "dict_Depot={\n",
    "    \"1\": \"BYW.DE\", ## Baywa\n",
    "    \"2\": \"HOC.DE\", ## Holidaycheck\n",
    "    \"3\": \"INR.DE\", ## Intern Cons Airline\n",
    "    \"4\": \"JAL.F\", ## Japan Airlines\n",
    "    \"5\": \"LHA.DE\", ## Lufthansa\n",
    "    \"6\": \"MSF.DE\", ## Microsoft\n",
    "    \"7\": \"PAH3.DE\", ## Porsche\n",
    "    \"8\": \"RY4C.F\", ## Ryanair\n",
    "    \"9\": \"XY6.DE\" ## Xylem\n",
    "}\n",
    "\n",
    "dict_Depot_EP={\n",
    "    \"1\": \"52.500\", ## Baywa\n",
    "    \"2\": \"3.280\", ## Holidaycheck\n",
    "    \"3\": \"2.333\", ## Intern Cons Airline\n",
    "    \"4\": \"19.948\", ## Japan Airlines\n",
    "    \"5\": \"10.674\", ## Lufthansa\n",
    "    \"6\": \"202.800\", ## Microsoft\n",
    "    \"7\": \"97.460\", ## Porsche\n",
    "    \"8\": \"16.860\", ## Ryanair\n",
    "    \"9\": \"98.140\" ## Xylem\n",
    "}\n",
    "\n",
    "dict_Depot_name={\n",
    "    \"BYW.DE\": \"Baywa\", ## Baywa\n",
    "    \"HOC.DE\": \"Holidaycheck\", ## Holidaycheck\n",
    "    \"INR.DE\": \"Intern. Cons. Airline\", ## Intern Cons Airline\n",
    "    \"JAL.F\": \"Japan Airlines\", ## Japan Airlines\n",
    "    \"LHA.DE\": \"Lufthansa\", ## Lufthansa\n",
    "    \"MSF.DE\": \"Microsoft\", ## Microsoft\n",
    "    \"PAH3.DE\": \"Porsche\", ## Porsche\n",
    "    \"RY4C.F\": \"Ryanair\", ## Ryanair\n",
    "    \"XY6.DE\": \"Xylem\" ## Xylem\n",
    "}"
   ]
  },
  {
   "cell_type": "code",
   "execution_count": 13,
   "metadata": {},
   "outputs": [
    {
     "name": "stdout",
     "output_type": "stream",
     "text": [
      "10.674\n",
      "HOC.DE\n"
     ]
    }
   ],
   "source": [
    "print(dict_Depot_EP[\"5\"])\n",
    "print(dict_Depot[\"2\"])"
   ]
  },
  {
   "cell_type": "code",
   "execution_count": null,
   "metadata": {},
   "outputs": [],
   "source": []
  },
  {
   "cell_type": "code",
   "execution_count": 14,
   "metadata": {},
   "outputs": [],
   "source": [
    "# start_date = datetime(2021, 6, 20)\n",
    "# end_date = datetime(2021, 7, 5)\n",
    "# name_aktie = str(dict_Depot[i])\n",
    "# # get the data\n",
    "# df = yf.download(name_aktie, start = start_date, end = end_date)\n",
    "# # a = range(0, len(df[\"Low\"]))\n",
    "# # df.set_index(a, inplace=True)\n",
    "# df.reset_index(level=0)\n",
    "\n",
    "# df"
   ]
  },
  {
   "cell_type": "code",
   "execution_count": 15,
   "metadata": {},
   "outputs": [],
   "source": [
    "# df = df.reset_index(level=0)\n",
    "# df.head(1)"
   ]
  },
  {
   "cell_type": "code",
   "execution_count": null,
   "metadata": {},
   "outputs": [],
   "source": []
  },
  {
   "cell_type": "code",
   "execution_count": null,
   "metadata": {},
   "outputs": [],
   "source": []
  },
  {
   "cell_type": "code",
   "execution_count": 16,
   "metadata": {},
   "outputs": [],
   "source": [
    "\n",
    "def create_df(i):\n",
    "    # initialize parameters\n",
    "    start_date = datetime(2021, 6, 1)\n",
    "    end_date = datetime(2021, 7, 5)\n",
    "    name_aktie = str(dict_Depot[i])\n",
    "    name_aktie_depot = str(dict_Depot_name[name_aktie])\n",
    "    # get the data\n",
    "    df = yf.download(name_aktie, start = start_date, end = end_date)\n",
    "    df = df.reset_index(level=0)\n",
    "#     df.index=list(range(0, len(df[\"Low\"])))\n",
    "    df[\"EP\"] = float(dict_Depot_EP[i])\n",
    "    df['Date'] = pd.to_datetime(df['Date'], utc=True)\n",
    "    win_loss = round(df[\"Low\"].iloc[-1] - df[\"EP\"].max(),2)\n",
    "    chart(df, name_aktie, name_aktie_depot, win_loss)\n",
    "    return(df, name_aktie, name_aktie_depot, win_loss)\n",
    "    "
   ]
  },
  {
   "cell_type": "code",
   "execution_count": 17,
   "metadata": {},
   "outputs": [],
   "source": [
    "def chart(df, name_aktie, name_aktie_depot, win_loss):\n",
    "    # display\n",
    "    size=20\n",
    "    plt.style.use('seaborn')\n",
    "#     fig, ax = plt.subplots(figsize=(16, 9))\n",
    "    plt.figure(figsize = (20,10))\n",
    "    plt.plot(df[\"Date\"], df['Low'], linestyle=\"solid\", linewidth=size*0.2, marker=\".\", color=\"black\", label=\"Low\")\n",
    "    plt.plot(df[\"Date\"], df['EP'], linestyle=\"--\", linewidth=size*0.2, marker=\"\", color=\"black\", label=\"EP\")\n",
    "    plt.title(f'{name_aktie_depot}, {win_loss} € \\n', fontsize=size*1.5)\n",
    "    plt.suptitle(today + ' PW', fontsize=size, y=0.91)\n",
    "    plt.fill_between(df[\"Date\"], df[\"Low\"], df[\"EP\"], color = \"green\", interpolate=True, alpha=0.5,\n",
    "                    where=df[\"Low\"] > df[\"EP\"], label=\"Gewinn\")\n",
    "    plt.fill_between(df[\"Date\"], df[\"Low\"], df[\"EP\"], color = \"red\", interpolate=True, alpha=0.5,\n",
    "                    where=df[\"Low\"] < df[\"EP\"], label=\"Verlust\")    \n",
    "#     plt.fill_between(df[\"Date\"], df['change_1_MW'], df['R1'], label = \"Erhöhung Neuinfektionen\", \n",
    "#                  color='red',alpha=0.5, interpolate=True, where = df['change_1_MW'] > 0 )\n",
    "    plt.legend(loc='upper center',\n",
    "           bbox_to_anchor=(0.5, -0.20),\n",
    "           fancybox=True,\n",
    "           shadow=True,\n",
    "           ncol=2,\n",
    "           fontsize=size)\n",
    "    \n",
    "    plt.xticks(fontsize=size, rotation=45)\n",
    "    plt.yticks(fontsize=size)\n",
    "    plt.ylabel('Wert [€]', fontsize=size)\n",
    "    plt.xlabel('Zeit', fontsize=size)\n",
    "    plt.savefig(f'D:\\\\Github\\\\Aktien\\\\Output\\\\{name_aktie_depot}.png', dpi=100, bbox_inches='tight')"
   ]
  },
  {
   "cell_type": "code",
   "execution_count": null,
   "metadata": {},
   "outputs": [
    {
     "name": "stderr",
     "output_type": "stream",
     "text": [
      "Exception in thread Thread-7:\n",
      "Traceback (most recent call last):\n",
      "  File \"C:\\Users\\pwait\\anaconda3\\lib\\threading.py\", line 932, in _bootstrap_inner\n",
      "    self.run()\n",
      "  File \"C:\\Users\\pwait\\anaconda3\\lib\\threading.py\", line 870, in run\n",
      "    self._target(*self._args, **self._kwargs)\n",
      "  File \"C:\\Users\\pwait\\anaconda3\\lib\\site-packages\\multitasking\\__init__.py\", line 102, in _run_via_pool\n",
      "    return callee(*args, **kwargs)\n",
      "  File \"C:\\Users\\pwait\\anaconda3\\lib\\site-packages\\yfinance\\multi.py\", line 169, in _download_one_threaded\n",
      "    data = _download_one(ticker, start, end, auto_adjust, back_adjust,\n",
      "  File \"C:\\Users\\pwait\\anaconda3\\lib\\site-packages\\yfinance\\multi.py\", line 181, in _download_one\n",
      "    return Ticker(ticker).history(period=period, interval=interval,\n",
      "  File \"C:\\Users\\pwait\\anaconda3\\lib\\site-packages\\yfinance\\base.py\", line 157, in history\n",
      "    data = data.json()\n",
      "  File \"C:\\Users\\pwait\\anaconda3\\lib\\site-packages\\requests\\models.py\", line 898, in json\n",
      "    return complexjson.loads(self.text, **kwargs)\n",
      "  File \"C:\\Users\\pwait\\anaconda3\\lib\\json\\__init__.py\", line 357, in loads\n",
      "    return _default_decoder.decode(s)\n",
      "  File \"C:\\Users\\pwait\\anaconda3\\lib\\json\\decoder.py\", line 337, in decode\n",
      "    obj, end = self.raw_decode(s, idx=_w(s, 0).end())\n",
      "  File \"C:\\Users\\pwait\\anaconda3\\lib\\json\\decoder.py\", line 355, in raw_decode\n",
      "    raise JSONDecodeError(\"Expecting value\", s, err.value) from None\n",
      "json.decoder.JSONDecodeError: Expecting value: line 1 column 1 (char 0)\n"
     ]
    }
   ],
   "source": [
    "for i in dict_Depot:\n",
    "    create_df(i)\n",
    "df.head(1)"
   ]
  },
  {
   "cell_type": "code",
   "execution_count": null,
   "metadata": {},
   "outputs": [],
   "source": [
    "df.tail(1)"
   ]
  },
  {
   "cell_type": "code",
   "execution_count": null,
   "metadata": {},
   "outputs": [],
   "source": [
    "df.dtypes"
   ]
  },
  {
   "cell_type": "code",
   "execution_count": null,
   "metadata": {},
   "outputs": [],
   "source": []
  },
  {
   "cell_type": "code",
   "execution_count": null,
   "metadata": {},
   "outputs": [],
   "source": []
  }
 ],
 "metadata": {
  "kernelspec": {
   "display_name": "Python 3",
   "language": "python",
   "name": "python3"
  },
  "language_info": {
   "codemirror_mode": {
    "name": "ipython",
    "version": 3
   },
   "file_extension": ".py",
   "mimetype": "text/x-python",
   "name": "python",
   "nbconvert_exporter": "python",
   "pygments_lexer": "ipython3",
   "version": "3.8.3"
  }
 },
 "nbformat": 4,
 "nbformat_minor": 4
}
